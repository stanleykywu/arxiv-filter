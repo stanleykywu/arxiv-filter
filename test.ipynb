{
 "cells": [
  {
   "cell_type": "code",
   "execution_count": 2,
   "metadata": {},
   "outputs": [],
   "source": [
    "import os\n",
    "import arxiv\n",
    "import logging\n",
    "\n",
    "from run import Query\n",
    "\n",
    "# FILE_DIR = os.path.dirname(os.path.realpath(__file__))\n",
    "FILE_DIR = \"/home/stanleywu/projects/arxiv-filter\"\n",
    "\n",
    "with open(os.path.join(FILE_DIR, \"categories.txt\"), \"r\") as f:\n",
    "    categories = [\n",
    "        line.strip() for line in f.read().split(\"\\n\") if len(line.strip()) > 0\n",
    "    ]\n",
    "\n",
    "with open(os.path.join(FILE_DIR, \"keywords.txt\"), \"r\") as f:\n",
    "    keywords = [line.strip() for line in f.read().split(\"\\n\") if len(line.strip()) > 0]\n",
    "\n",
    "with open(os.path.join(FILE_DIR, \"email_address.txt\"), \"r\") as f:\n",
    "    email_address = f.read().strip()\n",
    "\n",
    "arxiv_client = arxiv.Client()\n",
    "queries = []\n",
    "\n",
    "# get all queries in the categories in the last day\n",
    "for category in categories:\n",
    "    logging.info(f\"Searching for {category}...\")\n",
    "    category_results = []\n",
    "    while True:\n",
    "        for search_result in arxiv_client.results(\n",
    "            arxiv.Search(\n",
    "                query=category,\n",
    "                sort_by=arxiv.SortCriterion.SubmittedDate,\n",
    "            )\n",
    "        ):\n",
    "            query = Query(search_result._raw)\n",
    "            if query.is_recent:\n",
    "                category_results.append(query)\n",
    "            else:\n",
    "                break\n",
    "\n",
    "        break\n",
    "\n",
    "    queries += category_results\n",
    "\n",
    "# get rid of duplicates\n",
    "queries_dict = {q.id: q for q in queries}\n",
    "unique_keys = set(queries_dict.keys())\n",
    "queries = [queries_dict[k] for k in unique_keys]"
   ]
  },
  {
   "cell_type": "code",
   "execution_count": 9,
   "metadata": {},
   "outputs": [
    {
     "data": {
      "text/plain": [
       "False"
      ]
     },
     "execution_count": 9,
     "metadata": {},
     "output_type": "execute_result"
    }
   ],
   "source": [
    "\"Siteng huang\" in str(queries[0]).lower()"
   ]
  }
 ],
 "metadata": {
  "language_info": {
   "name": "python"
  }
 },
 "nbformat": 4,
 "nbformat_minor": 2
}
